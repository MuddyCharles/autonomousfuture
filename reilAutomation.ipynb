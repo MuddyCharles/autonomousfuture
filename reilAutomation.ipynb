{
  "nbformat": 4,
  "nbformat_minor": 0,
  "metadata": {
    "colab": {
      "name": "reilAutomation.ipynb",
      "version": "0.3.2",
      "provenance": [],
      "toc_visible": true,
      "include_colab_link": true
    },
    "kernelspec": {
      "name": "python3",
      "display_name": "Python 3"
    },
    "accelerator": "GPU"
  },
  "cells": [
    {
      "cell_type": "markdown",
      "metadata": {
        "id": "view-in-github",
        "colab_type": "text"
      },
      "source": [
        "[View in Colaboratory](https://colab.research.google.com/github/MuddyCharles/autonomousfuture/blob/master/reilAutomation.ipynb)"
      ]
    },
    {
      "metadata": {
        "id": "wEAKnMja1sHx",
        "colab_type": "text"
      },
      "cell_type": "markdown",
      "source": [
        "## Import OES Data"
      ]
    },
    {
      "metadata": {
        "id": "8xQ0hltz1zjV",
        "colab_type": "code",
        "colab": {}
      },
      "cell_type": "code",
      "source": [
        "import numpy as np\n",
        "import pandas as pd\n",
        "import matplotlib\n",
        "import matplotlib.pyplot as pp\n",
        "!wget \"https://www.dropbox.com/s/nb634owp9471quf/rawdatanaics.csv?dl=0\" -q -O \"rawdatanaics.csv\" \n",
        "#Download raw csv file from Dropbox and rename to \"rawdatanaics.csv\"\n",
        "oes = pd.read_csv(\"rawdatanaics.csv\",low_memory=False)\n",
        "\n"
      ],
      "execution_count": 0,
      "outputs": []
    },
    {
      "metadata": {
        "id": "SaW5pHN8D0E2",
        "colab_type": "text"
      },
      "cell_type": "markdown",
      "source": [
        "## Import ONet Data ##"
      ]
    },
    {
      "metadata": {
        "id": "P0atFUe0D2JX",
        "colab_type": "code",
        "colab": {}
      },
      "cell_type": "code",
      "source": [
        "!wget \"https://www.dropbox.com/s/2y7c9yo93nyq8uh/combined.sqlite?dl=0\" -q -O  \"onet.sqlite\"  \n",
        "#Download raw SQLite file from Dropbox and rename to \"onet.sqlite\"\n",
        "import sqlite3\n",
        "onetConnection = sqlite3.connect('onet.sqlite')\n",
        "cur = onetConnection.cursor()\n",
        "query = \"SELECT * FROM occupation_data\";\n",
        "occdata = pandas.read_sql_query(query, onetConnection)\n",
        "len(occdata)\n",
        "# Onet surveyed 1109 occupations.\n"
      ],
      "execution_count": 0,
      "outputs": []
    },
    {
      "metadata": {
        "id": "7Z35kElLdrlP",
        "colab_type": "text"
      },
      "cell_type": "markdown",
      "source": [
        "## Data cleaning"
      ]
    },
    {
      "metadata": {
        "id": "T5WcmXpTZX_L",
        "colab_type": "text"
      },
      "cell_type": "markdown",
      "source": [
        "### Target the occupations that 1. In Real Estate industry 2. Not General Group 3. Onet has surveyed\n"
      ]
    },
    {
      "metadata": {
        "id": "MpdkLpRlZ9UR",
        "colab_type": "code",
        "colab": {
          "base_uri": "https://localhost:8080/",
          "height": 68
        },
        "outputId": "02878034-246c-43bc-ce9d-28ee434953b2"
      },
      "cell_type": "code",
      "source": [
        "!wget \"https://www.dropbox.com/s/329edv8yrn3ik25/Occupation%20Data.csv?dl=0\"-q -O  \"Occupation Data.csv\" \n",
        "occ_onet=pd.read_csv(\"Occupation Data.csv\",low_memory=False)\n",
        "#Download 'Occupation Data' CSV that changes the 8-digit Onet-code to 6-digit, ommiting the last two digits.\n",
        "del_occ_endwith_00_and_in_Onet=oes.loc[oes['occ_code'].isin(occ_onet['O*NET-SOC Code'])]\n",
        "#Delete the occupation if the code is not in 'Occupation Data'\n",
        "del_occ_endwith_00_and_in_Onet.shape"
      ],
      "execution_count": 21,
      "outputs": [
        {
          "output_type": "stream",
          "text": [
            "\n",
            "Redirecting output to ‘wget-log.15’.\n"
          ],
          "name": "stdout"
        },
        {
          "output_type": "execute_result",
          "data": {
            "text/plain": [
              "(22026, 61)"
            ]
          },
          "metadata": {
            "tags": []
          },
          "execution_count": 21
        }
      ]
    },
    {
      "metadata": {
        "id": "NGLAv20Bd5qR",
        "colab_type": "code",
        "colab": {
          "base_uri": "https://localhost:8080/",
          "height": 34
        },
        "outputId": "02c828e1-ef2a-4b2d-9d43-0027671a1613"
      },
      "cell_type": "code",
      "source": [
        "target_occ=set(del_occ_endwith_00_and_in_Onet['occ_code'])\n",
        "target_occ=list(target_occ)\n",
        "target=pd.DataFrame({'target_occ': target_occ})\n",
        "len(target)\n",
        "# we target 558 occupations."
      ],
      "execution_count": 26,
      "outputs": [
        {
          "output_type": "execute_result",
          "data": {
            "text/plain": [
              "558"
            ]
          },
          "metadata": {
            "tags": []
          },
          "execution_count": 26
        }
      ]
    },
    {
      "metadata": {
        "id": "k6rLO1XWeu6n",
        "colab_type": "text"
      },
      "cell_type": "markdown",
      "source": [
        "### Drop the columns in the oes.csv that contains duplicated or redundant data."
      ]
    },
    {
      "metadata": {
        "id": "LmSKkbK8fJon",
        "colab_type": "code",
        "colab": {}
      },
      "cell_type": "code",
      "source": [
        "del_occ_endwith_00_and_in_Onet.columns\n",
        "#drop the colomuns that contain duplicate information\n",
        "del_duplicated_column=del_occ_endwith_00_and_in_Onet.drop(['title_code','occ_title_code', 'occ_title_mid', 'year.1', 'naics.1', 'naics_title.1', 'occ_code.1', 'occ_title.1', 'group', 'naics_codedescription', 'year-naics-occ_code', 'year-naics-occ_code.1','year.2', 'naics.2', 'naics_title.2', 'occ_code.2', 'title_code.1', 'dominant_lifecycle.1', 'occ_title.2', 'occ_title_code.1', 'occ_title_mid.1','group.1', 'naics_codedescription.1', 'keepsy'],axis=1)\n",
        "# the columns # decrease to 37 from 61\n",
        "del_duplicated_column.shape"
      ],
      "execution_count": 0,
      "outputs": []
    },
    {
      "metadata": {
        "id": "gcJHcg70dnSg",
        "colab_type": "text"
      },
      "cell_type": "markdown",
      "source": [
        ""
      ]
    }
  ]
}